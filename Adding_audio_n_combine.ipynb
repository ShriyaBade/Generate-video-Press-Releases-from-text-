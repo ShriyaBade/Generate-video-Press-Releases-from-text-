{
  "nbformat": 4,
  "nbformat_minor": 0,
  "metadata": {
    "colab": {
      "provenance": []
    },
    "kernelspec": {
      "name": "python3",
      "display_name": "Python 3"
    },
    "language_info": {
      "name": "python"
    }
  },
  "cells": [
    {
      "cell_type": "code",
      "source": [
        "!pip install gtts\n",
        "!pip install moviepy"
      ],
      "metadata": {
        "id": "7hQbYaYv2H7V"
      },
      "execution_count": null,
      "outputs": []
    },
    {
      "cell_type": "code",
      "execution_count": null,
      "metadata": {
        "id": "Dqzu-XD31Clp"
      },
      "outputs": [],
      "source": [
        "import subprocess\n",
        "from gtts import gTTS\n",
        "from moviepy.editor import VideoClip, ImageSequenceClip,ImageClip\n",
        "from moviepy.editor import VideoFileClip, concatenate_videoclips\n",
        "from moviepy.editor import VideoFileClip, AudioFileClip, CompositeAudioClip\n",
        "import cv2\n",
        "import os\n",
        "import imageio\n",
        "import subprocess\n",
        "from moviepy.video.tools.subtitles import SubtitlesClip\n",
        "from moviepy.editor import VideoFileClip\n",
        "from google.colab import drive\n",
        "\n",
        "drive.mount('/content/drive')\n",
        "\n",
        "num_images_per_prompt=5\n",
        "\n",
        "def create_video(image_folder, video_name, fps, i, num_images=num_images_per_prompt):\n",
        "    image_files = [img for img in os.listdir(image_folder) if any(img.endswith(f\"_{i}_{j}.png\") for j in range(num_images))]\n",
        "    image_files.sort()\n",
        "\n",
        "    video_path = os.path.join(image_folder, video_name)\n",
        "    writer = imageio.get_writer(video_path, fps=fps)\n",
        "\n",
        "    for image_file in image_files:\n",
        "        image_path = os.path.join(image_folder, image_file)\n",
        "        frame_bgr = cv2.imread(image_path)\n",
        "        frame_rgb = cv2.cvtColor(frame_bgr, cv2.COLOR_BGR2RGB)\n",
        "        writer.append_data(frame_rgb)\n",
        "\n",
        "    writer.close()\n",
        "\n",
        "\n",
        "\n",
        "v=[]\n",
        "\n",
        "file_path = '/content/drive/MyDrive/prompts/txtfile.txt'\n",
        "\n",
        "prompts = []\n",
        "with open(file_path, \"r\") as file:\n",
        "    for line in file:\n",
        "        prompts.append(line.strip())\n",
        "\n",
        "for i in range(len(prompts)):\n",
        "    image_folder = \"/content/drive/MyDrive/prompts\"\n",
        "    video_name = f\"video_{i}.mp4\"\n",
        "    create_video(image_folder, video_name,1,i)\n",
        "\n",
        "\n",
        "    text_to_speak = prompts[i]\n",
        "    language = 'en'\n",
        "    tts = gTTS(text=text_to_speak, lang=language, slow=False)\n",
        "    audio_file_path = f\"/content/drive/MyDrive/prompts/audio_{i}.mp3\"\n",
        "    tts.save(audio_file_path)\n",
        "\n",
        "    video_path = f\"/content/drive/MyDrive/prompts/video_{i}.mp4\"\n",
        "    audio_path = f\"/content/drive/MyDrive/prompts/audio_{i}.mp3\"\n",
        "    output_path = f\"/content/drive/MyDrive/prompts/video_with_audio_{i}.mp4\"\n",
        "    video_clip = VideoFileClip(video_path)\n",
        "    audio_clip = AudioFileClip(audio_path)\n",
        "    video_clip = video_clip.set_audio(audio_clip)\n",
        "\n",
        "    video_clip.write_videofile(output_path, codec=\"libx264\", audio_codec=\"aac\", fps=video_clip.fps)\n",
        "    # Input and output file paths\n",
        "    input_video_path = output_path\n",
        "    output_video_path = f\"/content/drive/MyDrive/prompts/video_with_sub_{i}.mp4\"  # Specify the complete file path\n",
        "    subtitles_text = prompts[i]\n",
        "\n",
        "    # Generate subtitles file dynamically\n",
        "    with open(\"/content/subtitles.srt\", \"w\") as f:\n",
        "        f.write(\"1\\n00:00:00,000 --> 00:00:10,000\\n\" + subtitles_text)\n",
        "\n",
        "    # Use subprocess to run ffmpeg command\n",
        "    ffmpeg_command = f\"ffmpeg -i '{input_video_path}' -vf 'subtitles=/content/subtitles.srt' -c:a copy '{output_video_path}'\"\n",
        "    subprocess.run(ffmpeg_command, shell=True)\n",
        "    #video_clip.write_videofile(output_path, codec=\"libx264\", audio_codec=\"aac\", fps=video_clip.fps)\n"
      ]
    },
    {
      "cell_type": "code",
      "source": [
        "# Assuming 'prompts' is a list of video prompts\n",
        "\n",
        "# Paths to the video files\n",
        "video_paths = [f\"/content/drive/MyDrive/prompts/video_with_sub_{i}.mp4\" for i in range(len(prompts))]\n",
        "\n",
        "# Output video file path\n",
        "output_path = \"/content/drive/MyDrive/prompts/output_concatenated_video_new.mp4\"\n",
        "\n",
        "# Load video clips\n",
        "clips = [VideoFileClip(video_path) for video_path in video_paths]\n",
        "\n",
        "# Concatenate the video clips\n",
        "final_clip = concatenate_videoclips(clips, method=\"compose\")\n",
        "\n",
        "# Write the final result to a new video file with explicit fps\n",
        "final_clip.write_videofile(output_path, codec=\"libx264\", fps=30)  # Adjust the fps value as needed\n"
      ],
      "metadata": {
        "id": "J-7dnMcY1I7a"
      },
      "execution_count": null,
      "outputs": []
    },
    {
      "cell_type": "code",
      "source": [
        "from google.colab import drive\n",
        "drive.mount('/content/drive')\n",
        "\n",
        "# Assuming your video is in the content folder\n",
        "!cp //content/drive/MyDrive/prompts/output_concatenated_video_new.mp4 /content/drive/MyDrive/"
      ],
      "metadata": {
        "colab": {
          "base_uri": "https://localhost:8080/"
        },
        "id": "q87lF4R-4Qr8",
        "outputId": "ccbb880e-6f0a-42c2-9cb9-7af1993f6f23"
      },
      "execution_count": null,
      "outputs": [
        {
          "output_type": "stream",
          "name": "stdout",
          "text": [
            "Drive already mounted at /content/drive; to attempt to forcibly remount, call drive.mount(\"/content/drive\", force_remount=True).\n"
          ]
        }
      ]
    }
  ]
}